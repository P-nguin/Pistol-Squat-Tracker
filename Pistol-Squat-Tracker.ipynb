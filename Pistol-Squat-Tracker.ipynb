{
 "cells": [
  {
   "cell_type": "markdown",
   "metadata": {},
   "source": [
    "# Imports:"
   ]
  },
  {
   "cell_type": "markdown",
   "metadata": {},
   "source": [
    "# Code: "
   ]
  },
  {
   "cell_type": "markdown",
   "metadata": {},
   "source": [
    "### Imports"
   ]
  },
  {
   "cell_type": "code",
   "execution_count": 1,
   "metadata": {},
   "outputs": [
    {
     "name": "stderr",
     "output_type": "stream",
     "text": [
      "objc[17947]: Class CaptureDelegate is implemented in both /Users/danielzhao/miniconda3/envs/mediapipe/lib/python3.10/site-packages/cv2/cv2.abi3.so (0x162112620) and /Users/danielzhao/miniconda3/envs/mediapipe/lib/python3.10/site-packages/mediapipe/.dylibs/libopencv_videoio.3.4.16.dylib (0x1473d8860). One of the two will be used. Which one is undefined.\n",
      "objc[17947]: Class CVWindow is implemented in both /Users/danielzhao/miniconda3/envs/mediapipe/lib/python3.10/site-packages/cv2/cv2.abi3.so (0x162112670) and /Users/danielzhao/miniconda3/envs/mediapipe/lib/python3.10/site-packages/mediapipe/.dylibs/libopencv_highgui.3.4.16.dylib (0x1260f4a68). One of the two will be used. Which one is undefined.\n",
      "objc[17947]: Class CVView is implemented in both /Users/danielzhao/miniconda3/envs/mediapipe/lib/python3.10/site-packages/cv2/cv2.abi3.so (0x162112698) and /Users/danielzhao/miniconda3/envs/mediapipe/lib/python3.10/site-packages/mediapipe/.dylibs/libopencv_highgui.3.4.16.dylib (0x1260f4a90). One of the two will be used. Which one is undefined.\n",
      "objc[17947]: Class CVSlider is implemented in both /Users/danielzhao/miniconda3/envs/mediapipe/lib/python3.10/site-packages/cv2/cv2.abi3.so (0x1621126c0) and /Users/danielzhao/miniconda3/envs/mediapipe/lib/python3.10/site-packages/mediapipe/.dylibs/libopencv_highgui.3.4.16.dylib (0x1260f4ab8). One of the two will be used. Which one is undefined.\n"
     ]
    }
   ],
   "source": [
    "import cv2\n",
    "import mediapipe as mp \n",
    "import numpy as np \n",
    "from enum import IntEnum\n",
    "mp_drawing = mp.solutions.drawing_utils\n",
    "mp_pose = mp.solutions.pose\n",
    "mp_hand = mp.solutions.hands\n"
   ]
  },
  {
   "cell_type": "markdown",
   "metadata": {},
   "source": [
    "### Calculations"
   ]
  },
  {
   "cell_type": "markdown",
   "metadata": {},
   "source": [
    "##### Calculate Angle"
   ]
  },
  {
   "cell_type": "code",
   "execution_count": 2,
   "metadata": {},
   "outputs": [],
   "source": [
    "def calculate_angle(a,b,c):\n",
    "    a = np.array(a)\n",
    "    b = np.array(b)\n",
    "    c = np.array(c)\n",
    "    \n",
    "    radians = np.arctan2(c[1]-b[1], c[0]-b[0]) - np.arctan2(a[1]-b[1], a[0]-b[0])\n",
    "    angle = np.abs(radians*180.0/np.pi)\n",
    "    \n",
    "    if angle >180.0:\n",
    "        angle = 360-angle\n",
    "        \n",
    "    return angle "
   ]
  },
  {
   "cell_type": "markdown",
   "metadata": {},
   "source": [
    "##### Get Leg Angles"
   ]
  },
  {
   "cell_type": "code",
   "execution_count": 3,
   "metadata": {},
   "outputs": [],
   "source": [
    "def getAngles(landmarks):\n",
    "    hip_left = [landmarks[mp_pose.PoseLandmark.LEFT_HIP.value].x,landmarks[mp_pose.PoseLandmark.LEFT_HIP.value].y]\n",
    "    knee_left = [landmarks[mp_pose.PoseLandmark.LEFT_KNEE.value].x,landmarks[mp_pose.PoseLandmark.LEFT_KNEE.value].y]\n",
    "    ankle_left = [landmarks[mp_pose.PoseLandmark.LEFT_ANKLE.value].x,landmarks[mp_pose.PoseLandmark.LEFT_ANKLE.value].y]\n",
    "\n",
    "    hip_right = [landmarks[mp_pose.PoseLandmark.RIGHT_HIP.value].x,landmarks[mp_pose.PoseLandmark.RIGHT_HIP.value].y]\n",
    "    knee_right = [landmarks[mp_pose.PoseLandmark.RIGHT_KNEE.value].x,landmarks[mp_pose.PoseLandmark.RIGHT_KNEE.value].y]\n",
    "    ankle_right = [landmarks[mp_pose.PoseLandmark.RIGHT_ANKLE.value].x,landmarks[mp_pose.PoseLandmark.RIGHT_ANKLE.value].y]\n",
    "\n",
    "    angle_left = calculate_angle(hip_left, knee_left, ankle_left)\n",
    "    angle_right = calculate_angle(hip_right, knee_right, ankle_right)\n",
    "\n",
    "    return [angle_left, angle_right]"
   ]
  },
  {
   "cell_type": "markdown",
   "metadata": {},
   "source": [
    "#### Handle and Draw UI"
   ]
  },
  {
   "cell_type": "code",
   "execution_count": 2,
   "metadata": {},
   "outputs": [],
   "source": [
    "class GameStates(IntEnum):\n",
    "    PAUSE = -1\n",
    "    MAIN_MENU = 0\n",
    "    READY = 1\n",
    "    START_ROUND = 2\n",
    "    END_ROUND = 3\n",
    "    GAME_OVER = 4\n",
    "    \n",
    "#set current ui to main menu\n",
    "gameState = GameStates.READY"
   ]
  },
  {
   "cell_type": "code",
   "execution_count": 6,
   "metadata": {},
   "outputs": [],
   "source": [
    "def drawUI(screen):\n",
    "    if gameState == 0:\n",
    "        pass"
   ]
  },
  {
   "cell_type": "markdown",
   "metadata": {},
   "source": [
    "#### Game loop"
   ]
  },
  {
   "cell_type": "code",
   "execution_count": 3,
   "metadata": {},
   "outputs": [
    {
     "name": "stderr",
     "output_type": "stream",
     "text": [
      "INFO: Created TensorFlow Lite XNNPACK delegate for CPU.\n"
     ]
    },
    {
     "name": "stdout",
     "output_type": "stream",
     "text": [
      "(1080, 960, 3)\n",
      "(1080, 960, 3)\n",
      "(1080, 960, 3)\n",
      "(1080, 960, 3)\n",
      "(1080, 960, 3)\n",
      "(1080, 960, 3)\n",
      "(1080, 960, 3)\n",
      "(1080, 960, 3)\n",
      "(1080, 960, 3)\n",
      "(1080, 960, 3)\n",
      "(1080, 960, 3)\n",
      "(1080, 960, 3)\n",
      "(1080, 960, 3)\n",
      "(1080, 960, 3)\n",
      "(1080, 960, 3)\n",
      "(1080, 960, 3)\n",
      "(1080, 960, 3)\n",
      "(1080, 960, 3)\n",
      "(1080, 960, 3)\n",
      "(1080, 960, 3)\n",
      "(1080, 960, 3)\n",
      "(1080, 960, 3)\n",
      "(1080, 960, 3)\n",
      "(1080, 960, 3)\n",
      "(1080, 960, 3)\n",
      "(1080, 960, 3)\n",
      "(1080, 960, 3)\n",
      "(1080, 960, 3)\n",
      "(1080, 960, 3)\n",
      "(1080, 960, 3)\n",
      "(1080, 960, 3)\n",
      "(1080, 960, 3)\n",
      "(1080, 960, 3)\n",
      "(1080, 960, 3)\n",
      "(1080, 960, 3)\n",
      "(1080, 960, 3)\n",
      "(1080, 960, 3)\n",
      "(1080, 960, 3)\n",
      "(1080, 960, 3)\n",
      "(1080, 960, 3)\n",
      "(1080, 960, 3)\n",
      "(1080, 960, 3)\n",
      "(1080, 960, 3)\n",
      "(1080, 960, 3)\n",
      "(1080, 960, 3)\n",
      "(1080, 960, 3)\n",
      "(1080, 960, 3)\n",
      "(1080, 960, 3)\n",
      "(1080, 960, 3)\n",
      "(1080, 960, 3)\n",
      "(1080, 960, 3)\n",
      "(1080, 960, 3)\n",
      "(1080, 960, 3)\n",
      "(1080, 960, 3)\n",
      "(1080, 960, 3)\n",
      "(1080, 960, 3)\n",
      "(1080, 960, 3)\n",
      "(1080, 960, 3)\n",
      "(1080, 960, 3)\n",
      "(1080, 960, 3)\n",
      "(1080, 960, 3)\n",
      "(1080, 960, 3)\n",
      "(1080, 960, 3)\n",
      "(1080, 960, 3)\n",
      "(1080, 960, 3)\n",
      "(1080, 960, 3)\n",
      "(1080, 960, 3)\n",
      "(1080, 960, 3)\n",
      "(1080, 960, 3)\n",
      "(1080, 960, 3)\n",
      "(1080, 960, 3)\n",
      "(1080, 960, 3)\n",
      "(1080, 960, 3)\n",
      "(1080, 960, 3)\n",
      "(1080, 960, 3)\n",
      "(1080, 960, 3)\n",
      "(1080, 960, 3)\n",
      "(1080, 960, 3)\n",
      "(1080, 960, 3)\n",
      "(1080, 960, 3)\n",
      "(1080, 960, 3)\n",
      "(1080, 960, 3)\n",
      "(1080, 960, 3)\n",
      "(1080, 960, 3)\n",
      "(1080, 960, 3)\n",
      "(1080, 960, 3)\n",
      "(1080, 960, 3)\n",
      "(1080, 960, 3)\n",
      "(1080, 960, 3)\n",
      "(1080, 960, 3)\n",
      "(1080, 960, 3)\n",
      "(1080, 960, 3)\n",
      "(1080, 960, 3)\n",
      "(1080, 960, 3)\n",
      "(1080, 960, 3)\n",
      "(1080, 960, 3)\n",
      "(1080, 960, 3)\n",
      "(1080, 960, 3)\n",
      "(1080, 960, 3)\n",
      "(1080, 960, 3)\n",
      "(1080, 960, 3)\n",
      "(1080, 960, 3)\n",
      "(1080, 960, 3)\n",
      "(1080, 960, 3)\n",
      "(1080, 960, 3)\n",
      "(1080, 960, 3)\n",
      "(1080, 960, 3)\n",
      "(1080, 960, 3)\n",
      "(1080, 960, 3)\n",
      "(1080, 960, 3)\n",
      "(1080, 960, 3)\n",
      "(1080, 960, 3)\n",
      "(1080, 960, 3)\n",
      "(1080, 960, 3)\n",
      "(1080, 960, 3)\n",
      "(1080, 960, 3)\n",
      "(1080, 960, 3)\n",
      "(1080, 960, 3)\n",
      "(1080, 960, 3)\n",
      "(1080, 960, 3)\n",
      "(1080, 960, 3)\n",
      "(1080, 960, 3)\n",
      "(1080, 960, 3)\n",
      "(1080, 960, 3)\n",
      "(1080, 960, 3)\n",
      "(1080, 960, 3)\n",
      "(1080, 960, 3)\n",
      "(1080, 960, 3)\n",
      "(1080, 960, 3)\n",
      "(1080, 960, 3)\n",
      "(1080, 960, 3)\n",
      "(1080, 960, 3)\n",
      "(1080, 960, 3)\n",
      "(1080, 960, 3)\n",
      "(1080, 960, 3)\n",
      "(1080, 960, 3)\n",
      "(1080, 960, 3)\n",
      "(1080, 960, 3)\n",
      "(1080, 960, 3)\n",
      "(1080, 960, 3)\n",
      "(1080, 960, 3)\n",
      "(1080, 960, 3)\n",
      "(1080, 960, 3)\n",
      "(1080, 960, 3)\n",
      "(1080, 960, 3)\n",
      "(1080, 960, 3)\n",
      "(1080, 960, 3)\n",
      "(1080, 960, 3)\n",
      "(1080, 960, 3)\n",
      "(1080, 960, 3)\n",
      "(1080, 960, 3)\n",
      "(1080, 960, 3)\n",
      "(1080, 960, 3)\n",
      "(1080, 960, 3)\n",
      "(1080, 960, 3)\n",
      "(1080, 960, 3)\n",
      "(1080, 960, 3)\n",
      "(1080, 960, 3)\n",
      "(1080, 960, 3)\n",
      "(1080, 960, 3)\n",
      "(1080, 960, 3)\n",
      "(1080, 960, 3)\n",
      "(1080, 960, 3)\n",
      "(1080, 960, 3)\n",
      "(1080, 960, 3)\n",
      "(1080, 960, 3)\n",
      "(1080, 960, 3)\n"
     ]
    },
    {
     "ename": "",
     "evalue": "",
     "output_type": "error",
     "traceback": [
      "\u001b[1;31mThe Kernel crashed while executing code in the the current cell or a previous cell. Please review the code in the cell(s) to identify a possible cause of the failure. Click <a href='https://aka.ms/vscodeJupyterKernelCrash'>here</a> for more info. View Jupyter <a href='command:jupyter.viewOutput'>log</a> for further details."
     ]
    }
   ],
   "source": [
    "# setup camera\n",
    "cam = cv2.VideoCapture(0)\n",
    "\n",
    "pose = mp_pose.Pose(min_detection_confidence=0.80, min_tracking_confidence=0.80)\n",
    "hands = mp_hand.Hands(min_detection_confidence=0.80, min_tracking_confidence=0.80)\n",
    "while cam.isOpened():\n",
    "    ret, frame = cam.read()\n",
    "    if cv2.waitKey(10) & 0xFF == ord('p'):\n",
    "        break\n",
    "\n",
    "    # proccess image, convert from BRG to RGB\n",
    "    image = cv2.cvtColor(frame, cv2.COLOR_BGR2RGB)\n",
    "    image.flags.writeable = False\n",
    "\n",
    "    if gameState == GameStates.MAIN_MENU:\n",
    "        # proccess image through hand detection\n",
    "        hand_results = hands.process(image)\n",
    "    elif gameState == GameStates.READY:\n",
    "        # crop photo in half horizontally\n",
    "        image_left = image[ :, :image.shape[1]//2]\n",
    "        image_left.flags.writeable = False\n",
    "\n",
    "        image_right = image[ :, image.shape[1]//2:]\n",
    "        image_right.flags.writeable = False\n",
    "\n",
    "        hands_results_left = hands.process(np.ascontiguousarray(image_left))\n",
    "        hands_results_right = hands.process(np.ascontiguousarray(image_right))\n",
    "\n",
    "        cv2.imshow(\"Testing1\", image_left)\n",
    "        cv2.imshow(\"Testing2\", image_right)\n",
    "    \n",
    "    image.flags.writeable = True\n",
    "    image = cv2.cvtColor(image, cv2.COLOR_RGB2BGR)\n",
    "        \n",
    "    cv2.imshow('QuickDraw', image)\n",
    "    \n",
    "cam.release()\n",
    "cv2.destroyAllWindows()   "
   ]
  },
  {
   "cell_type": "markdown",
   "metadata": {},
   "source": [
    "### Detections"
   ]
  },
  {
   "cell_type": "code",
   "execution_count": null,
   "metadata": {},
   "outputs": [
    {
     "name": "stderr",
     "output_type": "stream",
     "text": [
      "INFO: Created TensorFlow Lite XNNPACK delegate for CPU.\n"
     ]
    },
    {
     "ename": "",
     "evalue": "",
     "output_type": "error",
     "traceback": [
      "\u001b[1;31mnotebook controller is DISPOSED. \n",
      "\u001b[1;31mView Jupyter <a href='command:jupyter.viewOutput'>log</a> for further details."
     ]
    },
    {
     "ename": "",
     "evalue": "",
     "output_type": "error",
     "traceback": [
      "\u001b[1;31mnotebook controller is DISPOSED. \n",
      "\u001b[1;31mView Jupyter <a href='command:jupyter.viewOutput'>log</a> for further details."
     ]
    },
    {
     "ename": "",
     "evalue": "",
     "output_type": "error",
     "traceback": [
      "\u001b[1;31mnotebook controller is DISPOSED. \n",
      "\u001b[1;31mView Jupyter <a href='command:jupyter.viewOutput'>log</a> for further details."
     ]
    }
   ],
   "source": [
    "# squat counter variables\n",
    "counter = 0\n",
    "\n",
    "leg = 0 # 0 -> none, 1 -> left, 2 -> right\n",
    "halfDone = False\n",
    "\n",
    "# debugging mode/display detections\n",
    "debugMode = False\n",
    "\n",
    "\n",
    "#setup mediapipe, 75%\n",
    "with mp_pose.Pose(min_detection_confidence=0.5, min_tracking_confidence=0.75) as pose:\n",
    "    while cam.isOpened():\n",
    "        ret, frame = cam.read()\n",
    "        \n",
    "        # BRG -> RGB\n",
    "        image = cv2.cvtColor(frame, cv2.COLOR_BGR2RGB)\n",
    "        image.flags.writeable = False\n",
    "      \n",
    "        results = pose.process(image)\n",
    "\n",
    "        # Get landmarks\n",
    "        try:\n",
    "            landmarks = results.pose_landmarks.landmark\n",
    "        except:\n",
    "            pass\n",
    "    \n",
    "        # RGB -> BGR\n",
    "        image.flags.writeable = True\n",
    "        image = cv2.cvtColor(image, cv2.COLOR_RGB2BGR)\n",
    "\n",
    "        # get landmarks\n",
    "        try:\n",
    "            landmarks = results.pose_landmarks.landmark\n",
    "            \n",
    "            #get angles\n",
    "            leftAngle, rightAngle = getAngles(landmarks)\n",
    "\n",
    "            # Determine which leg is being used for\n",
    "            if leftAngle < 170 and not rightAngle < 160:\n",
    "                leg = 1\n",
    "            elif rightAngle < 170 and not rightAngle < 160:\n",
    "                leg = 2\n",
    "            \n",
    "            \n",
    "\n",
    "\n",
    "\n",
    "            \n",
    "            # show angle\n",
    "            leftKnee = [landmarks[mp_pose.PoseLandmark.LEFT_KNEE.value].x, landmarks[mp_pose.PoseLandmark.LEFT_KNEE.value].y]\n",
    "            rightKnee = [landmarks[mp_pose.PoseLandmark.RIGHT_KNEE.value].x, landmarks[mp_pose.PoseLandmark.RIGHT_KNEE.value].y]\n",
    "            cv2.putText(image, str(leftLeg), \n",
    "                        tuple(np.multiply(leftKnee, [frame.shape[0], frame.shape[1]]).astype(int)), \n",
    "                        cv2.FONT_HERSHEY_SIMPLEX, 0.5, (255, 255, 255), 2, cv2.LINE_AA)\n",
    "            cv2.putText(image, str(rightLeg), \n",
    "                        tuple(np.multiply(rightKnee, [frame.shape[0], frame.shape[1]]).astype(int)), \n",
    "                        cv2.FONT_HERSHEY_SIMPLEX, 0.5, (255, 255, 255), 2, cv2.LINE_AA)\n",
    "        except:\n",
    "            pass\n",
    "        \n",
    "        mp_drawing.draw_landmarks(image, results.pose_landmarks, mp_pose.POSE_CONNECTIONS,\n",
    "                                    mp_drawing.DrawingSpec(color=(245,117,66), thickness=2, circle_radius=2), \n",
    "                                    mp_drawing.DrawingSpec(color=(245,66,230), thickness=2, circle_radius=2) \n",
    "                                    )\n",
    "        \n",
    "        # Rep data\n",
    "        cv2.putText(image, 'REPS', (15,12), \n",
    "                    cv2.FONT_HERSHEY_SIMPLEX, 0.5, (0,0,0), 1, cv2.LINE_AA)\n",
    "        cv2.putText(image, str(counter), \n",
    "                    (10,60), \n",
    "                    cv2.FONT_HERSHEY_SIMPLEX, 2, (255,255,255), 2, cv2.LINE_AA)\n",
    "        \n",
    "        cv2.imshow('Mediapipe Feed', image)\n",
    "\n",
    "        # get input\n",
    "        if cv2.waitKey(10) & 0xFF == ord('p'):\n",
    "            break\n",
    "\n",
    "    cam.release()\n",
    "    cv2.destroyAllWindows()"
   ]
  }
 ],
 "metadata": {
  "kernelspec": {
   "display_name": "Python 3",
   "language": "python",
   "name": "python3"
  },
  "language_info": {
   "codemirror_mode": {
    "name": "ipython",
    "version": 3
   },
   "file_extension": ".py",
   "mimetype": "text/x-python",
   "name": "python",
   "nbconvert_exporter": "python",
   "pygments_lexer": "ipython3",
   "version": "3.10.13"
  }
 },
 "nbformat": 4,
 "nbformat_minor": 2
}
